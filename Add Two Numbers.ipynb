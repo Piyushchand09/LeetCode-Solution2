{
 "cells": [
  {
   "cell_type": "code",
   "execution_count": null,
   "id": "e4116ee0-1708-4d66-905d-991d48097989",
   "metadata": {},
   "outputs": [],
   "source": [
    "# 2. Add Two Numbers\n",
    "\n",
    "from typing import Optional  # Import Optional from typing module\n",
    "\n",
    "# Definition for singly-linked list.\n",
    "\n",
    "class Solution:\n",
    "    def addTwoNumbers(self, l1: Optional[ListNode], l2: Optional[ListNode]) -> Optional[ListNode]:\n",
    "        head = ListNode(0)  # A dummy node is created to simplify the linked list operations.\n",
    "        root = head # A pointer root is used to keep track of the head of the result list.\n",
    "        carry = 0 #This variable stores any carry-over when adding digits.\n",
    "        while l1 or l2:\n",
    "            v1 =l1.val if l1 else 0 #If l1 is not None, v1 takes its value; otherwise, v1 = 0.\n",
    "            v2 = l2.val if l2 else 0 # If l2 is not None, v2 takes its value; otherwise, v2 = 0.\n",
    "            s = v1 + v2 + carry\n",
    "            carry = s // 10\n",
    "            head.next = ListNode(s % 10) # Create a new node with the last digit of s (s % 10).\n",
    "            head = head.next # Move to the next node in the result list.\n",
    "            if l1:\n",
    "                l1 =l1.next # Move to the next node in l1 if it exists.\n",
    "\n",
    "            if l2:\n",
    "                l2= l2.next #  Move to the next node in l2 if it exists.\n",
    "\n",
    "       \n",
    "        if carry :\n",
    "            head.next = ListNode(carry)\n",
    "        return root.next    # Moved return statement outside the 'if' block"
   ]
  }
 ],
 "metadata": {
  "kernelspec": {
   "display_name": "Python 3 (ipykernel)",
   "language": "python",
   "name": "python3"
  },
  "language_info": {
   "codemirror_mode": {
    "name": "ipython",
    "version": 3
   },
   "file_extension": ".py",
   "mimetype": "text/x-python",
   "name": "python",
   "nbconvert_exporter": "python",
   "pygments_lexer": "ipython3",
   "version": "3.12.4"
  }
 },
 "nbformat": 4,
 "nbformat_minor": 5
}
